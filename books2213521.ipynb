{
 "cells": [
  {
   "cell_type": "markdown",
   "id": "202934e7177d937",
   "metadata": {
    "collapsed": false
   },
   "source": [
    "## Importing necessary libraries"
   ]
  },
  {
   "cell_type": "code",
   "execution_count": 1,
   "id": "aa7af93c44ca9a52",
   "metadata": {
    "ExecuteTime": {
     "end_time": "2024-02-06T04:59:52.043293400Z",
     "start_time": "2024-02-06T04:59:51.517169900Z"
    },
    "collapsed": false
   },
   "outputs": [],
   "source": [
    "import numpy as np\n",
    "import pandas as pd"
   ]
  },
  {
   "cell_type": "markdown",
   "id": "edc5b6cb8735fdbe",
   "metadata": {
    "collapsed": false
   },
   "source": [
    "## Loading the dataset"
   ]
  },
  {
   "cell_type": "code",
   "execution_count": 2,
   "id": "d7492e63614387f9",
   "metadata": {
    "ExecuteTime": {
     "end_time": "2024-02-06T04:59:52.055260700Z",
     "start_time": "2024-02-06T04:59:52.035273300Z"
    },
    "collapsed": false
   },
   "outputs": [],
   "source": [
    "df = pd.read_csv(\"books.csv\")"
   ]
  },
  {
   "cell_type": "markdown",
   "id": "bd6814d104856575",
   "metadata": {
    "collapsed": false
   },
   "source": [
    "## Displaying the entire dataset"
   ]
  },
  {
   "cell_type": "code",
   "execution_count": 3,
   "id": "cf69d3ba17cd4bcc",
   "metadata": {
    "ExecuteTime": {
     "end_time": "2024-02-06T04:59:52.084228200Z",
     "start_time": "2024-02-06T04:59:52.058273300Z"
    },
    "collapsed": false
   },
   "outputs": [
    {
     "data": {
      "text/html": [
       "<div>\n",
       "<style scoped>\n",
       "    .dataframe tbody tr th:only-of-type {\n",
       "        vertical-align: middle;\n",
       "    }\n",
       "\n",
       "    .dataframe tbody tr th {\n",
       "        vertical-align: top;\n",
       "    }\n",
       "\n",
       "    .dataframe thead th {\n",
       "        text-align: right;\n",
       "    }\n",
       "</style>\n",
       "<table border=\"1\" class=\"dataframe\">\n",
       "  <thead>\n",
       "    <tr style=\"text-align: right;\">\n",
       "      <th></th>\n",
       "      <th>name</th>\n",
       "      <th>author</th>\n",
       "      <th>rating</th>\n",
       "      <th>year</th>\n",
       "      <th>genre</th>\n",
       "    </tr>\n",
       "  </thead>\n",
       "  <tbody>\n",
       "    <tr>\n",
       "      <th>0</th>\n",
       "      <td>10-Day Green Smoothie Cleanse</td>\n",
       "      <td>JJ Smith</td>\n",
       "      <td>4.7</td>\n",
       "      <td>2016</td>\n",
       "      <td>Non Fiction</td>\n",
       "    </tr>\n",
       "    <tr>\n",
       "      <th>1</th>\n",
       "      <td>11/22/63: A Novel</td>\n",
       "      <td>Stephen King</td>\n",
       "      <td>4.6</td>\n",
       "      <td>2011</td>\n",
       "      <td>Fiction</td>\n",
       "    </tr>\n",
       "    <tr>\n",
       "      <th>2</th>\n",
       "      <td>12 Rules for Life: An Antidote to Chaos</td>\n",
       "      <td>Jordan B. Peterson</td>\n",
       "      <td>4.7</td>\n",
       "      <td>2018</td>\n",
       "      <td>Non Fiction</td>\n",
       "    </tr>\n",
       "    <tr>\n",
       "      <th>3</th>\n",
       "      <td>1984 (Signet Classics)</td>\n",
       "      <td>George Orwell</td>\n",
       "      <td>4.7</td>\n",
       "      <td>2017</td>\n",
       "      <td>Fiction</td>\n",
       "    </tr>\n",
       "    <tr>\n",
       "      <th>4</th>\n",
       "      <td>5,000 Awesome Facts (About Everything!) (Natio...</td>\n",
       "      <td>National Geographic Kids</td>\n",
       "      <td>4.8</td>\n",
       "      <td>2019</td>\n",
       "      <td>Childrens</td>\n",
       "    </tr>\n",
       "    <tr>\n",
       "      <th>...</th>\n",
       "      <td>...</td>\n",
       "      <td>...</td>\n",
       "      <td>...</td>\n",
       "      <td>...</td>\n",
       "      <td>...</td>\n",
       "    </tr>\n",
       "    <tr>\n",
       "      <th>345</th>\n",
       "      <td>Wild: From Lost to Found on the Pacific Crest ...</td>\n",
       "      <td>Cheryl Strayed</td>\n",
       "      <td>4.4</td>\n",
       "      <td>2012</td>\n",
       "      <td>Non Fiction</td>\n",
       "    </tr>\n",
       "    <tr>\n",
       "      <th>346</th>\n",
       "      <td>Winter of the World: Book Two of the Century T...</td>\n",
       "      <td>Ken Follett</td>\n",
       "      <td>4.5</td>\n",
       "      <td>2012</td>\n",
       "      <td>Fiction</td>\n",
       "    </tr>\n",
       "    <tr>\n",
       "      <th>347</th>\n",
       "      <td>Women Food and God: An Unexpected Path to Almo...</td>\n",
       "      <td>Geneen Roth</td>\n",
       "      <td>4.2</td>\n",
       "      <td>2010</td>\n",
       "      <td>Non Fiction</td>\n",
       "    </tr>\n",
       "    <tr>\n",
       "      <th>348</th>\n",
       "      <td>Wonder</td>\n",
       "      <td>R. J. Palacio</td>\n",
       "      <td>4.8</td>\n",
       "      <td>2013</td>\n",
       "      <td>Fiction</td>\n",
       "    </tr>\n",
       "    <tr>\n",
       "      <th>349</th>\n",
       "      <td>Wrecking Ball (Diary of a Wimpy Kid Book 14)</td>\n",
       "      <td>Jeff Kinney</td>\n",
       "      <td>4.9</td>\n",
       "      <td>2019</td>\n",
       "      <td>Childrens</td>\n",
       "    </tr>\n",
       "  </tbody>\n",
       "</table>\n",
       "<p>350 rows × 5 columns</p>\n",
       "</div>"
      ],
      "text/plain": [
       "                                                  name  \\\n",
       "0                        10-Day Green Smoothie Cleanse   \n",
       "1                                    11/22/63: A Novel   \n",
       "2              12 Rules for Life: An Antidote to Chaos   \n",
       "3                               1984 (Signet Classics)   \n",
       "4    5,000 Awesome Facts (About Everything!) (Natio...   \n",
       "..                                                 ...   \n",
       "345  Wild: From Lost to Found on the Pacific Crest ...   \n",
       "346  Winter of the World: Book Two of the Century T...   \n",
       "347  Women Food and God: An Unexpected Path to Almo...   \n",
       "348                                             Wonder   \n",
       "349       Wrecking Ball (Diary of a Wimpy Kid Book 14)   \n",
       "\n",
       "                       author  rating  year        genre  \n",
       "0                    JJ Smith     4.7  2016  Non Fiction  \n",
       "1                Stephen King     4.6  2011      Fiction  \n",
       "2          Jordan B. Peterson     4.7  2018  Non Fiction  \n",
       "3               George Orwell     4.7  2017      Fiction  \n",
       "4    National Geographic Kids     4.8  2019    Childrens  \n",
       "..                        ...     ...   ...          ...  \n",
       "345            Cheryl Strayed     4.4  2012  Non Fiction  \n",
       "346               Ken Follett     4.5  2012      Fiction  \n",
       "347               Geneen Roth     4.2  2010  Non Fiction  \n",
       "348             R. J. Palacio     4.8  2013      Fiction  \n",
       "349               Jeff Kinney     4.9  2019    Childrens  \n",
       "\n",
       "[350 rows x 5 columns]"
      ]
     },
     "execution_count": 3,
     "metadata": {},
     "output_type": "execute_result"
    }
   ],
   "source": [
    "df"
   ]
  },
  {
   "cell_type": "markdown",
   "id": "51fb8f50e9fbee9c",
   "metadata": {
    "collapsed": false
   },
   "source": [
    "## Displaying the first five rows of the dataset"
   ]
  },
  {
   "cell_type": "code",
   "execution_count": 4,
   "id": "5812335be8d1ac3",
   "metadata": {
    "ExecuteTime": {
     "end_time": "2024-02-06T04:59:52.100361Z",
     "start_time": "2024-02-06T04:59:52.074194400Z"
    },
    "collapsed": false
   },
   "outputs": [
    {
     "data": {
      "text/html": [
       "<div>\n",
       "<style scoped>\n",
       "    .dataframe tbody tr th:only-of-type {\n",
       "        vertical-align: middle;\n",
       "    }\n",
       "\n",
       "    .dataframe tbody tr th {\n",
       "        vertical-align: top;\n",
       "    }\n",
       "\n",
       "    .dataframe thead th {\n",
       "        text-align: right;\n",
       "    }\n",
       "</style>\n",
       "<table border=\"1\" class=\"dataframe\">\n",
       "  <thead>\n",
       "    <tr style=\"text-align: right;\">\n",
       "      <th></th>\n",
       "      <th>name</th>\n",
       "      <th>author</th>\n",
       "      <th>rating</th>\n",
       "      <th>year</th>\n",
       "      <th>genre</th>\n",
       "    </tr>\n",
       "  </thead>\n",
       "  <tbody>\n",
       "    <tr>\n",
       "      <th>0</th>\n",
       "      <td>10-Day Green Smoothie Cleanse</td>\n",
       "      <td>JJ Smith</td>\n",
       "      <td>4.7</td>\n",
       "      <td>2016</td>\n",
       "      <td>Non Fiction</td>\n",
       "    </tr>\n",
       "    <tr>\n",
       "      <th>1</th>\n",
       "      <td>11/22/63: A Novel</td>\n",
       "      <td>Stephen King</td>\n",
       "      <td>4.6</td>\n",
       "      <td>2011</td>\n",
       "      <td>Fiction</td>\n",
       "    </tr>\n",
       "    <tr>\n",
       "      <th>2</th>\n",
       "      <td>12 Rules for Life: An Antidote to Chaos</td>\n",
       "      <td>Jordan B. Peterson</td>\n",
       "      <td>4.7</td>\n",
       "      <td>2018</td>\n",
       "      <td>Non Fiction</td>\n",
       "    </tr>\n",
       "    <tr>\n",
       "      <th>3</th>\n",
       "      <td>1984 (Signet Classics)</td>\n",
       "      <td>George Orwell</td>\n",
       "      <td>4.7</td>\n",
       "      <td>2017</td>\n",
       "      <td>Fiction</td>\n",
       "    </tr>\n",
       "    <tr>\n",
       "      <th>4</th>\n",
       "      <td>5,000 Awesome Facts (About Everything!) (Natio...</td>\n",
       "      <td>National Geographic Kids</td>\n",
       "      <td>4.8</td>\n",
       "      <td>2019</td>\n",
       "      <td>Childrens</td>\n",
       "    </tr>\n",
       "  </tbody>\n",
       "</table>\n",
       "</div>"
      ],
      "text/plain": [
       "                                                name  \\\n",
       "0                      10-Day Green Smoothie Cleanse   \n",
       "1                                  11/22/63: A Novel   \n",
       "2            12 Rules for Life: An Antidote to Chaos   \n",
       "3                             1984 (Signet Classics)   \n",
       "4  5,000 Awesome Facts (About Everything!) (Natio...   \n",
       "\n",
       "                     author  rating  year        genre  \n",
       "0                  JJ Smith     4.7  2016  Non Fiction  \n",
       "1              Stephen King     4.6  2011      Fiction  \n",
       "2        Jordan B. Peterson     4.7  2018  Non Fiction  \n",
       "3             George Orwell     4.7  2017      Fiction  \n",
       "4  National Geographic Kids     4.8  2019    Childrens  "
      ]
     },
     "execution_count": 4,
     "metadata": {},
     "output_type": "execute_result"
    }
   ],
   "source": [
    "df.head()"
   ]
  },
  {
   "cell_type": "markdown",
   "id": "c5a3ce56e80577e1",
   "metadata": {
    "collapsed": false
   },
   "source": [
    "## Filtering books with a rating greater than or equal to 4.5"
   ]
  },
  {
   "cell_type": "code",
   "execution_count": 5,
   "id": "ec23580f9ff1603d",
   "metadata": {
    "ExecuteTime": {
     "end_time": "2024-02-06T04:59:52.102376400Z",
     "start_time": "2024-02-06T04:59:52.084228200Z"
    },
    "collapsed": false
   },
   "outputs": [
    {
     "data": {
      "text/html": [
       "<div>\n",
       "<style scoped>\n",
       "    .dataframe tbody tr th:only-of-type {\n",
       "        vertical-align: middle;\n",
       "    }\n",
       "\n",
       "    .dataframe tbody tr th {\n",
       "        vertical-align: top;\n",
       "    }\n",
       "\n",
       "    .dataframe thead th {\n",
       "        text-align: right;\n",
       "    }\n",
       "</style>\n",
       "<table border=\"1\" class=\"dataframe\">\n",
       "  <thead>\n",
       "    <tr style=\"text-align: right;\">\n",
       "      <th></th>\n",
       "      <th>name</th>\n",
       "      <th>author</th>\n",
       "      <th>rating</th>\n",
       "      <th>year</th>\n",
       "      <th>genre</th>\n",
       "    </tr>\n",
       "  </thead>\n",
       "  <tbody>\n",
       "    <tr>\n",
       "      <th>0</th>\n",
       "      <td>10-Day Green Smoothie Cleanse</td>\n",
       "      <td>JJ Smith</td>\n",
       "      <td>4.7</td>\n",
       "      <td>2016</td>\n",
       "      <td>Non Fiction</td>\n",
       "    </tr>\n",
       "    <tr>\n",
       "      <th>1</th>\n",
       "      <td>11/22/63: A Novel</td>\n",
       "      <td>Stephen King</td>\n",
       "      <td>4.6</td>\n",
       "      <td>2011</td>\n",
       "      <td>Fiction</td>\n",
       "    </tr>\n",
       "    <tr>\n",
       "      <th>2</th>\n",
       "      <td>12 Rules for Life: An Antidote to Chaos</td>\n",
       "      <td>Jordan B. Peterson</td>\n",
       "      <td>4.7</td>\n",
       "      <td>2018</td>\n",
       "      <td>Non Fiction</td>\n",
       "    </tr>\n",
       "    <tr>\n",
       "      <th>3</th>\n",
       "      <td>1984 (Signet Classics)</td>\n",
       "      <td>George Orwell</td>\n",
       "      <td>4.7</td>\n",
       "      <td>2017</td>\n",
       "      <td>Fiction</td>\n",
       "    </tr>\n",
       "    <tr>\n",
       "      <th>4</th>\n",
       "      <td>5,000 Awesome Facts (About Everything!) (Natio...</td>\n",
       "      <td>National Geographic Kids</td>\n",
       "      <td>4.8</td>\n",
       "      <td>2019</td>\n",
       "      <td>Childrens</td>\n",
       "    </tr>\n",
       "    <tr>\n",
       "      <th>...</th>\n",
       "      <td>...</td>\n",
       "      <td>...</td>\n",
       "      <td>...</td>\n",
       "      <td>...</td>\n",
       "      <td>...</td>\n",
       "    </tr>\n",
       "    <tr>\n",
       "      <th>343</th>\n",
       "      <td>Where the Wild Things Are</td>\n",
       "      <td>Maurice Sendak</td>\n",
       "      <td>4.8</td>\n",
       "      <td>2009</td>\n",
       "      <td>Childrens</td>\n",
       "    </tr>\n",
       "    <tr>\n",
       "      <th>344</th>\n",
       "      <td>Whose Boat Is This Boat?: Comments That Don't ...</td>\n",
       "      <td>The Staff of The Late Show with</td>\n",
       "      <td>4.6</td>\n",
       "      <td>2018</td>\n",
       "      <td>Non Fiction</td>\n",
       "    </tr>\n",
       "    <tr>\n",
       "      <th>346</th>\n",
       "      <td>Winter of the World: Book Two of the Century T...</td>\n",
       "      <td>Ken Follett</td>\n",
       "      <td>4.5</td>\n",
       "      <td>2012</td>\n",
       "      <td>Fiction</td>\n",
       "    </tr>\n",
       "    <tr>\n",
       "      <th>348</th>\n",
       "      <td>Wonder</td>\n",
       "      <td>R. J. Palacio</td>\n",
       "      <td>4.8</td>\n",
       "      <td>2013</td>\n",
       "      <td>Fiction</td>\n",
       "    </tr>\n",
       "    <tr>\n",
       "      <th>349</th>\n",
       "      <td>Wrecking Ball (Diary of a Wimpy Kid Book 14)</td>\n",
       "      <td>Jeff Kinney</td>\n",
       "      <td>4.9</td>\n",
       "      <td>2019</td>\n",
       "      <td>Childrens</td>\n",
       "    </tr>\n",
       "  </tbody>\n",
       "</table>\n",
       "<p>281 rows × 5 columns</p>\n",
       "</div>"
      ],
      "text/plain": [
       "                                                  name  \\\n",
       "0                        10-Day Green Smoothie Cleanse   \n",
       "1                                    11/22/63: A Novel   \n",
       "2              12 Rules for Life: An Antidote to Chaos   \n",
       "3                               1984 (Signet Classics)   \n",
       "4    5,000 Awesome Facts (About Everything!) (Natio...   \n",
       "..                                                 ...   \n",
       "343                          Where the Wild Things Are   \n",
       "344  Whose Boat Is This Boat?: Comments That Don't ...   \n",
       "346  Winter of the World: Book Two of the Century T...   \n",
       "348                                             Wonder   \n",
       "349       Wrecking Ball (Diary of a Wimpy Kid Book 14)   \n",
       "\n",
       "                               author  rating  year        genre  \n",
       "0                            JJ Smith     4.7  2016  Non Fiction  \n",
       "1                        Stephen King     4.6  2011      Fiction  \n",
       "2                  Jordan B. Peterson     4.7  2018  Non Fiction  \n",
       "3                       George Orwell     4.7  2017      Fiction  \n",
       "4            National Geographic Kids     4.8  2019    Childrens  \n",
       "..                                ...     ...   ...          ...  \n",
       "343                    Maurice Sendak     4.8  2009    Childrens  \n",
       "344  The Staff of The Late Show with\n",
       "     4.6  2018  Non Fiction  \n",
       "346                       Ken Follett     4.5  2012      Fiction  \n",
       "348                     R. J. Palacio     4.8  2013      Fiction  \n",
       "349                       Jeff Kinney     4.9  2019    Childrens  \n",
       "\n",
       "[281 rows x 5 columns]"
      ]
     },
     "execution_count": 5,
     "metadata": {},
     "output_type": "execute_result"
    }
   ],
   "source": [
    "filtered_rating = df[df['rating'] >= 4.5]\n",
    "filtered_rating"
   ]
  },
  {
   "cell_type": "markdown",
   "id": "d6c15b446984547a",
   "metadata": {
    "collapsed": false
   },
   "source": [
    "## Counting the number of books by each author"
   ]
  },
  {
   "cell_type": "code",
   "execution_count": 6,
   "id": "30b2dc1a53e5e251",
   "metadata": {
    "ExecuteTime": {
     "end_time": "2024-02-06T04:59:52.153496600Z",
     "start_time": "2024-02-06T04:59:52.096172900Z"
    },
    "collapsed": false
   },
   "outputs": [
    {
     "data": {
      "text/plain": [
       "author\n",
       "Jeff Kinney            12\n",
       "Rick Riordan           10\n",
       "Stephenie Meyer         7\n",
       "Bill O'Reilly           6\n",
       "J.K. Rowling            6\n",
       "                       ..\n",
       "Eric Larson             1\n",
       "Christopher Paolini     1\n",
       "Jennifer Smith          1\n",
       "Sarah Young             1\n",
       "R. J. Palacio           1\n",
       "Name: count, Length: 247, dtype: int64"
      ]
     },
     "execution_count": 6,
     "metadata": {},
     "output_type": "execute_result"
    }
   ],
   "source": [
    "author_counts = df['author'].value_counts()\n",
    "author_counts"
   ]
  },
  {
   "cell_type": "markdown",
   "id": "837f8b6d5712d70c",
   "metadata": {
    "collapsed": false
   },
   "source": [
    "## Finding the author with the maximum number of books"
   ]
  },
  {
   "cell_type": "code",
   "execution_count": 7,
   "id": "82781c06ce03620b",
   "metadata": {
    "ExecuteTime": {
     "end_time": "2024-02-06T04:59:52.213642200Z",
     "start_time": "2024-02-06T04:59:52.107162700Z"
    },
    "collapsed": false
   },
   "outputs": [
    {
     "data": {
      "text/plain": [
       "'Jeff Kinney'"
      ]
     },
     "execution_count": 7,
     "metadata": {},
     "output_type": "execute_result"
    }
   ],
   "source": [
    "max_author = author_counts.idxmax()\n",
    "max_author"
   ]
  },
  {
   "cell_type": "markdown",
   "id": "ba52883c9b0b1128",
   "metadata": {
    "collapsed": false
   },
   "source": [
    "## Filtering books written by a specific author (Jeff Kinney)"
   ]
  },
  {
   "cell_type": "code",
   "execution_count": 8,
   "id": "2e6f9f2e847b0045",
   "metadata": {
    "ExecuteTime": {
     "end_time": "2024-02-06T04:59:52.223175500Z",
     "start_time": "2024-02-06T04:59:52.113552500Z"
    },
    "collapsed": false
   },
   "outputs": [
    {
     "data": {
      "text/html": [
       "<div>\n",
       "<style scoped>\n",
       "    .dataframe tbody tr th:only-of-type {\n",
       "        vertical-align: middle;\n",
       "    }\n",
       "\n",
       "    .dataframe tbody tr th {\n",
       "        vertical-align: top;\n",
       "    }\n",
       "\n",
       "    .dataframe thead th {\n",
       "        text-align: right;\n",
       "    }\n",
       "</style>\n",
       "<table border=\"1\" class=\"dataframe\">\n",
       "  <thead>\n",
       "    <tr style=\"text-align: right;\">\n",
       "      <th></th>\n",
       "      <th>name</th>\n",
       "      <th>author</th>\n",
       "      <th>rating</th>\n",
       "      <th>year</th>\n",
       "      <th>genre</th>\n",
       "    </tr>\n",
       "  </thead>\n",
       "  <tbody>\n",
       "    <tr>\n",
       "      <th>37</th>\n",
       "      <td>Cabin Fever (Diary of a Wimpy Kid, Book 6)</td>\n",
       "      <td>Jeff Kinney</td>\n",
       "      <td>4.8</td>\n",
       "      <td>2011</td>\n",
       "      <td>Childrens</td>\n",
       "    </tr>\n",
       "    <tr>\n",
       "      <th>57</th>\n",
       "      <td>Diary of a Wimpy Kid: Hard Luck, Book 8</td>\n",
       "      <td>Jeff Kinney</td>\n",
       "      <td>4.8</td>\n",
       "      <td>2013</td>\n",
       "      <td>Childrens</td>\n",
       "    </tr>\n",
       "    <tr>\n",
       "      <th>58</th>\n",
       "      <td>Diary of a Wimpy Kid: The Last Straw (Book 3)</td>\n",
       "      <td>Jeff Kinney</td>\n",
       "      <td>4.8</td>\n",
       "      <td>2009</td>\n",
       "      <td>Childrens</td>\n",
       "    </tr>\n",
       "    <tr>\n",
       "      <th>59</th>\n",
       "      <td>Diary of a Wimpy Kid: The Long Haul</td>\n",
       "      <td>Jeff Kinney</td>\n",
       "      <td>4.8</td>\n",
       "      <td>2014</td>\n",
       "      <td>Childrens</td>\n",
       "    </tr>\n",
       "    <tr>\n",
       "      <th>65</th>\n",
       "      <td>Dog Days (Diary of a Wimpy Kid, Book 4) (Volum...</td>\n",
       "      <td>Jeff Kinney</td>\n",
       "      <td>4.8</td>\n",
       "      <td>2009</td>\n",
       "      <td>Childrens</td>\n",
       "    </tr>\n",
       "    <tr>\n",
       "      <th>72</th>\n",
       "      <td>Double Down (Diary of a Wimpy Kid #11)</td>\n",
       "      <td>Jeff Kinney</td>\n",
       "      <td>4.8</td>\n",
       "      <td>2016</td>\n",
       "      <td>Childrens</td>\n",
       "    </tr>\n",
       "    <tr>\n",
       "      <th>179</th>\n",
       "      <td>Old School (Diary of a Wimpy Kid #10)</td>\n",
       "      <td>Jeff Kinney</td>\n",
       "      <td>4.8</td>\n",
       "      <td>2015</td>\n",
       "      <td>Childrens</td>\n",
       "    </tr>\n",
       "    <tr>\n",
       "      <th>244</th>\n",
       "      <td>The Getaway</td>\n",
       "      <td>Jeff Kinney</td>\n",
       "      <td>4.8</td>\n",
       "      <td>2017</td>\n",
       "      <td>Fiction</td>\n",
       "    </tr>\n",
       "    <tr>\n",
       "      <th>278</th>\n",
       "      <td>The Meltdown (Diary of a Wimpy Kid Book 13)</td>\n",
       "      <td>Jeff Kinney</td>\n",
       "      <td>4.8</td>\n",
       "      <td>2018</td>\n",
       "      <td>Childrens</td>\n",
       "    </tr>\n",
       "    <tr>\n",
       "      <th>302</th>\n",
       "      <td>The Third Wheel (Diary of a Wimpy Kid, Book 7)</td>\n",
       "      <td>Jeff Kinney</td>\n",
       "      <td>4.7</td>\n",
       "      <td>2012</td>\n",
       "      <td>Childrens</td>\n",
       "    </tr>\n",
       "    <tr>\n",
       "      <th>308</th>\n",
       "      <td>The Ugly Truth (Diary of a Wimpy Kid, Book 5)</td>\n",
       "      <td>Jeff Kinney</td>\n",
       "      <td>4.8</td>\n",
       "      <td>2010</td>\n",
       "      <td>Childrens</td>\n",
       "    </tr>\n",
       "    <tr>\n",
       "      <th>349</th>\n",
       "      <td>Wrecking Ball (Diary of a Wimpy Kid Book 14)</td>\n",
       "      <td>Jeff Kinney</td>\n",
       "      <td>4.9</td>\n",
       "      <td>2019</td>\n",
       "      <td>Childrens</td>\n",
       "    </tr>\n",
       "  </tbody>\n",
       "</table>\n",
       "</div>"
      ],
      "text/plain": [
       "                                                  name       author  rating  \\\n",
       "37          Cabin Fever (Diary of a Wimpy Kid, Book 6)  Jeff Kinney     4.8   \n",
       "57             Diary of a Wimpy Kid: Hard Luck, Book 8  Jeff Kinney     4.8   \n",
       "58       Diary of a Wimpy Kid: The Last Straw (Book 3)  Jeff Kinney     4.8   \n",
       "59                 Diary of a Wimpy Kid: The Long Haul  Jeff Kinney     4.8   \n",
       "65   Dog Days (Diary of a Wimpy Kid, Book 4) (Volum...  Jeff Kinney     4.8   \n",
       "72              Double Down (Diary of a Wimpy Kid #11)  Jeff Kinney     4.8   \n",
       "179              Old School (Diary of a Wimpy Kid #10)  Jeff Kinney     4.8   \n",
       "244                                        The Getaway  Jeff Kinney     4.8   \n",
       "278        The Meltdown (Diary of a Wimpy Kid Book 13)  Jeff Kinney     4.8   \n",
       "302     The Third Wheel (Diary of a Wimpy Kid, Book 7)  Jeff Kinney     4.7   \n",
       "308      The Ugly Truth (Diary of a Wimpy Kid, Book 5)  Jeff Kinney     4.8   \n",
       "349       Wrecking Ball (Diary of a Wimpy Kid Book 14)  Jeff Kinney     4.9   \n",
       "\n",
       "     year      genre  \n",
       "37   2011  Childrens  \n",
       "57   2013  Childrens  \n",
       "58   2009  Childrens  \n",
       "59   2014  Childrens  \n",
       "65   2009  Childrens  \n",
       "72   2016  Childrens  \n",
       "179  2015  Childrens  \n",
       "244  2017    Fiction  \n",
       "278  2018  Childrens  \n",
       "302  2012  Childrens  \n",
       "308  2010  Childrens  \n",
       "349  2019  Childrens  "
      ]
     },
     "execution_count": 8,
     "metadata": {},
     "output_type": "execute_result"
    }
   ],
   "source": [
    "author_books = df[df['author'] == 'Jeff Kinney']\n",
    "author_books"
   ]
  },
  {
   "cell_type": "markdown",
   "id": "f4a67f64a55c2339",
   "metadata": {
    "collapsed": false
   },
   "source": [
    "## Calculating the average ratings for each author"
   ]
  },
  {
   "cell_type": "code",
   "execution_count": 9,
   "id": "17ed0826ea29b9ce",
   "metadata": {
    "ExecuteTime": {
     "end_time": "2024-02-06T04:59:52.224186100Z",
     "start_time": "2024-02-06T04:59:52.124686400Z"
    },
    "collapsed": false
   },
   "outputs": [
    {
     "data": {
      "text/plain": [
       "author\n",
       "Abraham Verghese              4.60\n",
       "Adam Gasiewski                4.40\n",
       "Adam Mansbach                 4.80\n",
       "Adir Levy                     4.80\n",
       "Admiral William H. McRaven    4.70\n",
       "                              ... \n",
       "Walter Isaacson               4.55\n",
       "William Davis                 4.40\n",
       "William P. Young              4.60\n",
       "Wizards RPG Team              4.80\n",
       "Zhi Gang Sha                  4.60\n",
       "Name: rating, Length: 247, dtype: float64"
      ]
     },
     "execution_count": 9,
     "metadata": {},
     "output_type": "execute_result"
    }
   ],
   "source": [
    "author_avg_ratings = df.groupby('author')['rating'].mean()\n",
    "author_avg_ratings"
   ]
  },
  {
   "cell_type": "markdown",
   "id": "7768573b7c6f3698",
   "metadata": {
    "collapsed": false
   },
   "source": [
    "## Finding the author with the maximum average rating"
   ]
  },
  {
   "cell_type": "code",
   "execution_count": 10,
   "id": "dd34945c8b1e40e2",
   "metadata": {
    "ExecuteTime": {
     "end_time": "2024-02-06T04:59:52.305171900Z",
     "start_time": "2024-02-06T04:59:52.133690400Z"
    },
    "collapsed": false
   },
   "outputs": [
    {
     "name": "stdout",
     "output_type": "stream",
     "text": [
      "Alice Schertle: 4.9\n"
     ]
    }
   ],
   "source": [
    "max_avg_author = author_avg_ratings.idxmax()\n",
    "max_avg_rating = author_avg_ratings.max()\n",
    "print(f\"{max_avg_author}: {max_avg_rating}\")"
   ]
  },
  {
   "cell_type": "markdown",
   "id": "8002a2ea926d5b30",
   "metadata": {
    "collapsed": false
   },
   "source": [
    "## Importing Matplotlib for data visualization"
   ]
  },
  {
   "cell_type": "code",
   "execution_count": 11,
   "id": "e06669ecfb9d5e60",
   "metadata": {
    "ExecuteTime": {
     "end_time": "2024-02-06T04:59:52.611553100Z",
     "start_time": "2024-02-06T04:59:52.142879900Z"
    },
    "collapsed": false
   },
   "outputs": [],
   "source": [
    "import matplotlib.pyplot as plt"
   ]
  },
  {
   "cell_type": "markdown",
   "id": "3680c29700e90bc3",
   "metadata": {
    "collapsed": false
   },
   "source": [
    "## Plotting a histogram for the 'rating' column"
   ]
  },
  {
   "cell_type": "code",
   "execution_count": 12,
   "id": "669460da7381a22a",
   "metadata": {
    "ExecuteTime": {
     "end_time": "2024-02-06T04:59:52.818560400Z",
     "start_time": "2024-02-06T04:59:52.578589300Z"
    },
    "collapsed": false
   },
   "outputs": [
    {
     "data": {
      "image/png": "[encoded data removed]",
      "text/plain": [
       "<Figure size 600x500 with 1 Axes>"
      ]
     },
     "metadata": {},
     "output_type": "display_data"
    }
   ],
   "source": [
    "plt.figure(figsize=(6, 5))\n",
    "plt.hist(df['rating'], bins=20, edgecolor='white', alpha=0.3)\n",
    "plt.title('Distribution of Book Ratings')\n",
    "plt.xlabel('Rating')\n",
    "plt.ylabel('Frequency')\n",
    "plt.show()"
   ]
  },
  {
   "cell_type": "markdown",
   "id": "215133ed473bad2d",
   "metadata": {
    "collapsed": false
   },
   "source": [
    "## Checking for missing values in the dataset"
   ]
  },
  {
   "cell_type": "code",
   "execution_count": 13,
   "id": "e6d946549dd4d7d",
   "metadata": {
    "ExecuteTime": {
     "end_time": "2024-02-06T04:59:52.819975100Z",
     "start_time": "2024-02-06T04:59:52.775457100Z"
    },
    "collapsed": false
   },
   "outputs": [
    {
     "data": {
      "text/plain": [
       "name      0\n",
       "author    0\n",
       "rating    0\n",
       "year      0\n",
       "genre     0\n",
       "dtype: int64"
      ]
     },
     "execution_count": 13,
     "metadata": {},
     "output_type": "execute_result"
    }
   ],
   "source": [
    "df.isnull().sum()"
   ]
  },
  {
   "cell_type": "markdown",
   "id": "8bec1c0dfbdc0fe5",
   "metadata": {
    "collapsed": false
   },
   "source": [
    "## Summarizing the dataset statistics"
   ]
  },
  {
   "cell_type": "code",
   "execution_count": 14,
   "id": "f6b8f98a7e2dd49e",
   "metadata": {
    "ExecuteTime": {
     "end_time": "2024-02-06T04:59:52.819975100Z",
     "start_time": "2024-02-06T04:59:52.782345100Z"
    },
    "collapsed": false
   },
   "outputs": [
    {
     "data": {
      "text/html": [
       "<div>\n",
       "<style scoped>\n",
       "    .dataframe tbody tr th:only-of-type {\n",
       "        vertical-align: middle;\n",
       "    }\n",
       "\n",
       "    .dataframe tbody tr th {\n",
       "        vertical-align: top;\n",
       "    }\n",
       "\n",
       "    .dataframe thead th {\n",
       "        text-align: right;\n",
       "    }\n",
       "</style>\n",
       "<table border=\"1\" class=\"dataframe\">\n",
       "  <thead>\n",
       "    <tr style=\"text-align: right;\">\n",
       "      <th></th>\n",
       "      <th>rating</th>\n",
       "      <th>year</th>\n",
       "    </tr>\n",
       "  </thead>\n",
       "  <tbody>\n",
       "    <tr>\n",
       "      <th>count</th>\n",
       "      <td>350.000000</td>\n",
       "      <td>350.000000</td>\n",
       "    </tr>\n",
       "    <tr>\n",
       "      <th>mean</th>\n",
       "      <td>4.608571</td>\n",
       "      <td>2013.508571</td>\n",
       "    </tr>\n",
       "    <tr>\n",
       "      <th>std</th>\n",
       "      <td>0.226941</td>\n",
       "      <td>3.284711</td>\n",
       "    </tr>\n",
       "    <tr>\n",
       "      <th>min</th>\n",
       "      <td>3.300000</td>\n",
       "      <td>2009.000000</td>\n",
       "    </tr>\n",
       "    <tr>\n",
       "      <th>25%</th>\n",
       "      <td>4.500000</td>\n",
       "      <td>2010.000000</td>\n",
       "    </tr>\n",
       "    <tr>\n",
       "      <th>50%</th>\n",
       "      <td>4.600000</td>\n",
       "      <td>2013.000000</td>\n",
       "    </tr>\n",
       "    <tr>\n",
       "      <th>75%</th>\n",
       "      <td>4.800000</td>\n",
       "      <td>2016.000000</td>\n",
       "    </tr>\n",
       "    <tr>\n",
       "      <th>max</th>\n",
       "      <td>4.900000</td>\n",
       "      <td>2019.000000</td>\n",
       "    </tr>\n",
       "  </tbody>\n",
       "</table>\n",
       "</div>"
      ],
      "text/plain": [
       "           rating         year\n",
       "count  350.000000   350.000000\n",
       "mean     4.608571  2013.508571\n",
       "std      0.226941     3.284711\n",
       "min      3.300000  2009.000000\n",
       "25%      4.500000  2010.000000\n",
       "50%      4.600000  2013.000000\n",
       "75%      4.800000  2016.000000\n",
       "max      4.900000  2019.000000"
      ]
     },
     "execution_count": 14,
     "metadata": {},
     "output_type": "execute_result"
    }
   ],
   "source": [
    "df.describe()"
   ]
  },
  {
   "cell_type": "markdown",
   "id": "668f9e508e32892d",
   "metadata": {
    "collapsed": false
   },
   "source": [
    "## Calculating correlation matrix"
   ]
  },
  {
   "cell_type": "code",
   "execution_count": 15,
   "id": "55da6910dd6a2620",
   "metadata": {
    "ExecuteTime": {
     "end_time": "2024-02-06T04:59:52.819975100Z",
     "start_time": "2024-02-06T04:59:52.797569400Z"
    },
    "collapsed": false
   },
   "outputs": [
    {
     "name": "stdout",
     "output_type": "stream",
     "text": [
      "Correlation Matrix:\n",
      "           rating      year\n",
      "rating  1.000000  0.220153\n",
      "year    0.220153  1.000000\n"
     ]
    }
   ],
   "source": [
    "num_cols = df.select_dtypes(include=['number'])\n",
    "correlation_matrix = num_cols.corr()\n",
    "print(\"Correlation Matrix:\\n\", correlation_matrix)"
   ]
  },
  {
   "cell_type": "markdown",
   "id": "a315870466b61f6c",
   "metadata": {
    "collapsed": false
   },
   "source": [
    "## Splitting the dataset into Train and Test sets"
   ]
  },
  {
   "cell_type": "code",
   "execution_count": 16,
   "id": "eca76732d1f8547",
   "metadata": {
    "ExecuteTime": {
     "end_time": "2024-02-06T04:59:53.816891300Z",
     "start_time": "2024-02-06T04:59:53.107294300Z"
    },
    "collapsed": false
   },
   "outputs": [],
   "source": [
    "from sklearn.model_selection import train_test_split\n",
    "\n",
    "X = df.drop('rating', axis=1)\n",
    "y = df['rating']\n",
    "\n",
    "X_train, X_test, y_train, y_test = train_test_split(X, y, test_size=0.2, random_state=42)"
   ]
  },
  {
   "cell_type": "code",
   "execution_count": 17,
   "id": "17af193c29d06d47",
   "metadata": {
    "ExecuteTime": {
     "end_time": "2024-02-06T04:59:53.927809100Z",
     "start_time": "2024-02-06T04:59:53.844225300Z"
    },
    "collapsed": false
   },
   "outputs": [
    {
     "data": {
      "text/html": [
       "<div>\n",
       "<style scoped>\n",
       "    .dataframe tbody tr th:only-of-type {\n",
       "        vertical-align: middle;\n",
       "    }\n",
       "\n",
       "    .dataframe tbody tr th {\n",
       "        vertical-align: top;\n",
       "    }\n",
       "\n",
       "    .dataframe thead th {\n",
       "        text-align: right;\n",
       "    }\n",
       "</style>\n",
       "<table border=\"1\" class=\"dataframe\">\n",
       "  <thead>\n",
       "    <tr style=\"text-align: right;\">\n",
       "      <th></th>\n",
       "      <th>name</th>\n",
       "      <th>author</th>\n",
       "      <th>year</th>\n",
       "      <th>genre</th>\n",
       "    </tr>\n",
       "  </thead>\n",
       "  <tbody>\n",
       "    <tr>\n",
       "      <th>228</th>\n",
       "      <td>The Book Thief</td>\n",
       "      <td>Markus Zusak</td>\n",
       "      <td>2013</td>\n",
       "      <td>Fiction</td>\n",
       "    </tr>\n",
       "    <tr>\n",
       "      <th>78</th>\n",
       "      <td>Eclipse (Twilight Sagas)</td>\n",
       "      <td>Stephenie Meyer</td>\n",
       "      <td>2009</td>\n",
       "      <td>Fiction</td>\n",
       "    </tr>\n",
       "    <tr>\n",
       "      <th>90</th>\n",
       "      <td>First 100 Words</td>\n",
       "      <td>Roger Priddy</td>\n",
       "      <td>2014</td>\n",
       "      <td>Non Fiction</td>\n",
       "    </tr>\n",
       "    <tr>\n",
       "      <th>16</th>\n",
       "      <td>Adult Coloring Book: Stress Relieving Patterns</td>\n",
       "      <td>Blue Star Coloring</td>\n",
       "      <td>2015</td>\n",
       "      <td>Non Fiction</td>\n",
       "    </tr>\n",
       "    <tr>\n",
       "      <th>66</th>\n",
       "      <td>Dog Man and Cat Kid: From the Creator of Capta...</td>\n",
       "      <td>Dav Pilkey</td>\n",
       "      <td>2018</td>\n",
       "      <td>Childrens</td>\n",
       "    </tr>\n",
       "    <tr>\n",
       "      <th>...</th>\n",
       "      <td>...</td>\n",
       "      <td>...</td>\n",
       "      <td>...</td>\n",
       "      <td>...</td>\n",
       "    </tr>\n",
       "    <tr>\n",
       "      <th>71</th>\n",
       "      <td>Dog Man: Lord of the Fleas: From the Creator o...</td>\n",
       "      <td>Dav Pilkey</td>\n",
       "      <td>2018</td>\n",
       "      <td>Childrens</td>\n",
       "    </tr>\n",
       "    <tr>\n",
       "      <th>106</th>\n",
       "      <td>Good to Great: Why Some Companies Make the Lea...</td>\n",
       "      <td>Jim Collins</td>\n",
       "      <td>2009</td>\n",
       "      <td>Non Fiction</td>\n",
       "    </tr>\n",
       "    <tr>\n",
       "      <th>270</th>\n",
       "      <td>The Litigators</td>\n",
       "      <td>John Grisham</td>\n",
       "      <td>2011</td>\n",
       "      <td>Fiction</td>\n",
       "    </tr>\n",
       "    <tr>\n",
       "      <th>348</th>\n",
       "      <td>Wonder</td>\n",
       "      <td>R. J. Palacio</td>\n",
       "      <td>2013</td>\n",
       "      <td>Fiction</td>\n",
       "    </tr>\n",
       "    <tr>\n",
       "      <th>102</th>\n",
       "      <td>Go the F**k to Sleep</td>\n",
       "      <td>Adam Mansbach</td>\n",
       "      <td>2011</td>\n",
       "      <td>Fiction</td>\n",
       "    </tr>\n",
       "  </tbody>\n",
       "</table>\n",
       "<p>280 rows × 4 columns</p>\n",
       "</div>"
      ],
      "text/plain": [
       "                                                  name              author  \\\n",
       "228                                     The Book Thief        Markus Zusak   \n",
       "78                            Eclipse (Twilight Sagas)     Stephenie Meyer   \n",
       "90                                     First 100 Words        Roger Priddy   \n",
       "16      Adult Coloring Book: Stress Relieving Patterns  Blue Star Coloring   \n",
       "66   Dog Man and Cat Kid: From the Creator of Capta...          Dav Pilkey   \n",
       "..                                                 ...                 ...   \n",
       "71   Dog Man: Lord of the Fleas: From the Creator o...          Dav Pilkey   \n",
       "106  Good to Great: Why Some Companies Make the Lea...         Jim Collins   \n",
       "270                                     The Litigators        John Grisham   \n",
       "348                                             Wonder       R. J. Palacio   \n",
       "102                               Go the F**k to Sleep       Adam Mansbach   \n",
       "\n",
       "     year        genre  \n",
       "228  2013      Fiction  \n",
       "78   2009      Fiction  \n",
       "90   2014  Non Fiction  \n",
       "16   2015  Non Fiction  \n",
       "66   2018    Childrens  \n",
       "..    ...          ...  \n",
       "71   2018    Childrens  \n",
       "106  2009  Non Fiction  \n",
       "270  2011      Fiction  \n",
       "348  2013      Fiction  \n",
       "102  2011      Fiction  \n",
       "\n",
       "[280 rows x 4 columns]"
      ]
     },
     "execution_count": 17,
     "metadata": {},
     "output_type": "execute_result"
    }
   ],
   "source": [
    "X_train"
   ]
  },
  {
   "cell_type": "code",
   "execution_count": 18,
   "id": "d17cc26a772f2991",
   "metadata": {
    "ExecuteTime": {
     "end_time": "2024-02-06T04:59:53.928810Z",
     "start_time": "2024-02-06T04:59:53.855047900Z"
    },
    "collapsed": false
   },
   "outputs": [
    {
     "data": {
      "text/html": [
       "<div>\n",
       "<style scoped>\n",
       "    .dataframe tbody tr th:only-of-type {\n",
       "        vertical-align: middle;\n",
       "    }\n",
       "\n",
       "    .dataframe tbody tr th {\n",
       "        vertical-align: top;\n",
       "    }\n",
       "\n",
       "    .dataframe thead th {\n",
       "        text-align: right;\n",
       "    }\n",
       "</style>\n",
       "<table border=\"1\" class=\"dataframe\">\n",
       "  <thead>\n",
       "    <tr style=\"text-align: right;\">\n",
       "      <th></th>\n",
       "      <th>name</th>\n",
       "      <th>author</th>\n",
       "      <th>year</th>\n",
       "      <th>genre</th>\n",
       "    </tr>\n",
       "  </thead>\n",
       "  <tbody>\n",
       "    <tr>\n",
       "      <th>157</th>\n",
       "      <td>Life</td>\n",
       "      <td>Keith Richards</td>\n",
       "      <td>2010</td>\n",
       "      <td>Non Fiction</td>\n",
       "    </tr>\n",
       "    <tr>\n",
       "      <th>341</th>\n",
       "      <td>When Breath Becomes Air</td>\n",
       "      <td>Paul Kalanithi</td>\n",
       "      <td>2016</td>\n",
       "      <td>Non Fiction</td>\n",
       "    </tr>\n",
       "    <tr>\n",
       "      <th>315</th>\n",
       "      <td>Things That Matter: Three Decades of Passions,...</td>\n",
       "      <td>Charles Krauthammer</td>\n",
       "      <td>2013</td>\n",
       "      <td>Non Fiction</td>\n",
       "    </tr>\n",
       "    <tr>\n",
       "      <th>234</th>\n",
       "      <td>The Confession: A Novel</td>\n",
       "      <td>John Grisham</td>\n",
       "      <td>2010</td>\n",
       "      <td>Fiction</td>\n",
       "    </tr>\n",
       "    <tr>\n",
       "      <th>155</th>\n",
       "      <td>Lettering and Modern Calligraphy: A Beginner's...</td>\n",
       "      <td>Paper Peony Press</td>\n",
       "      <td>2018</td>\n",
       "      <td>Non Fiction</td>\n",
       "    </tr>\n",
       "    <tr>\n",
       "      <th>...</th>\n",
       "      <td>...</td>\n",
       "      <td>...</td>\n",
       "      <td>...</td>\n",
       "      <td>...</td>\n",
       "    </tr>\n",
       "    <tr>\n",
       "      <th>94</th>\n",
       "      <td>Game of Thrones Boxed Set: A Game of Thrones/A...</td>\n",
       "      <td>George R.R. Martin</td>\n",
       "      <td>2011</td>\n",
       "      <td>Fiction</td>\n",
       "    </tr>\n",
       "    <tr>\n",
       "      <th>181</th>\n",
       "      <td>One Thousand Gifts: A Dare to Live Fully Right...</td>\n",
       "      <td>Ann Voskamp</td>\n",
       "      <td>2011</td>\n",
       "      <td>Non Fiction</td>\n",
       "    </tr>\n",
       "    <tr>\n",
       "      <th>179</th>\n",
       "      <td>Old School (Diary of a Wimpy Kid #10)</td>\n",
       "      <td>Jeff Kinney</td>\n",
       "      <td>2015</td>\n",
       "      <td>Childrens</td>\n",
       "    </tr>\n",
       "    <tr>\n",
       "      <th>199</th>\n",
       "      <td>Sarah's Key</td>\n",
       "      <td>Tatiana de Rosnay</td>\n",
       "      <td>2010</td>\n",
       "      <td>Fiction</td>\n",
       "    </tr>\n",
       "    <tr>\n",
       "      <th>326</th>\n",
       "      <td>Twilight (The Twilight Saga, Book 1)</td>\n",
       "      <td>Stephenie Meyer</td>\n",
       "      <td>2009</td>\n",
       "      <td>Fiction</td>\n",
       "    </tr>\n",
       "  </tbody>\n",
       "</table>\n",
       "<p>70 rows × 4 columns</p>\n",
       "</div>"
      ],
      "text/plain": [
       "                                                  name               author  \\\n",
       "157                                               Life       Keith Richards   \n",
       "341                            When Breath Becomes Air       Paul Kalanithi   \n",
       "315  Things That Matter: Three Decades of Passions,...  Charles Krauthammer   \n",
       "234                            The Confession: A Novel         John Grisham   \n",
       "155  Lettering and Modern Calligraphy: A Beginner's...    Paper Peony Press   \n",
       "..                                                 ...                  ...   \n",
       "94   Game of Thrones Boxed Set: A Game of Thrones/A...   George R.R. Martin   \n",
       "181  One Thousand Gifts: A Dare to Live Fully Right...          Ann Voskamp   \n",
       "179              Old School (Diary of a Wimpy Kid #10)          Jeff Kinney   \n",
       "199                                        Sarah's Key    Tatiana de Rosnay   \n",
       "326               Twilight (The Twilight Saga, Book 1)      Stephenie Meyer   \n",
       "\n",
       "     year        genre  \n",
       "157  2010  Non Fiction  \n",
       "341  2016  Non Fiction  \n",
       "315  2013  Non Fiction  \n",
       "234  2010      Fiction  \n",
       "155  2018  Non Fiction  \n",
       "..    ...          ...  \n",
       "94   2011      Fiction  \n",
       "181  2011  Non Fiction  \n",
       "179  2015    Childrens  \n",
       "199  2010      Fiction  \n",
       "326  2009      Fiction  \n",
       "\n",
       "[70 rows x 4 columns]"
      ]
     },
     "execution_count": 18,
     "metadata": {},
     "output_type": "execute_result"
    }
   ],
   "source": [
    "X_test"
   ]
  },
  {
   "cell_type": "code",
   "execution_count": 19,
   "id": "47e3c16005485686",
   "metadata": {
    "ExecuteTime": {
     "end_time": "2024-02-06T04:59:53.928810Z",
     "start_time": "2024-02-06T04:59:53.866580200Z"
    },
    "collapsed": false
   },
   "outputs": [
    {
     "data": {
      "text/plain": [
       "228    4.6\n",
       "78     4.7\n",
       "90     4.7\n",
       "16     4.4\n",
       "66     4.9\n",
       "      ... \n",
       "71     4.9\n",
       "106    4.5\n",
       "270    4.4\n",
       "348    4.8\n",
       "102    4.8\n",
       "Name: rating, Length: 280, dtype: float64"
      ]
     },
     "execution_count": 19,
     "metadata": {},
     "output_type": "execute_result"
    }
   ],
   "source": [
    "y_train"
   ]
  },
  {
   "cell_type": "code",
   "execution_count": 20,
   "id": "54e1f1d1ae379c3e",
   "metadata": {
    "ExecuteTime": {
     "end_time": "2024-02-06T04:59:55.239291300Z",
     "start_time": "2024-02-06T04:59:55.189952Z"
    },
    "collapsed": false
   },
   "outputs": [
    {
     "data": {
      "text/plain": [
       "157    4.5\n",
       "341    4.8\n",
       "315    4.7\n",
       "234    4.3\n",
       "155    4.4\n",
       "      ... \n",
       "94     4.6\n",
       "181    4.6\n",
       "179    4.8\n",
       "199    4.6\n",
       "326    4.7\n",
       "Name: rating, Length: 70, dtype: float64"
      ]
     },
     "execution_count": 20,
     "metadata": {},
     "output_type": "execute_result"
    }
   ],
   "source": [
    "y_test"
   ]
  }
 ],
 "metadata": {
  "kernelspec": {
   "display_name": "Python 3 (ipykernel)",
   "language": "python",
   "name": "python3"
  },
  "language_info": {
   "codemirror_mode": {
    "name": "ipython",
    "version": 3
   },
   "file_extension": ".py",
   "mimetype": "text/x-python",
   "name": "python",
   "nbconvert_exporter": "python",
   "pygments_lexer": "ipython3",
   "version": "3.10.13"
  }
 },
 "nbformat": 4,
 "nbformat_minor": 5
}
